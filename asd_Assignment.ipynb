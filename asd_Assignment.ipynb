{
 "cells": [
  {
   "cell_type": "code",
   "execution_count": null,
   "metadata": {},
   "outputs": [],
   "source": [
    "# Import packeges from python lib\n",
    "import pandas as pd\n",
    "import numpy as np \n",
    "import matplotlib.pyplot as plt\n",
    "import warnings\n",
    "warnings.simplefilter(action='ignore', category=FutureWarning) #ignore warnings"
   ]
  },
  {
   "cell_type": "code",
   "execution_count": null,
   "metadata": {},
   "outputs": [],
   "source": [
    "# Load CSV file 'weatherHistory.csv' using pandas\n",
    "df_wehter_Data =  pd.read_csv('weatherHistory.csv')\n",
    "df_wehter_Data.head()"
   ]
  },
  {
   "cell_type": "code",
   "execution_count": null,
   "metadata": {},
   "outputs": [],
   "source": [
    "# Checking for unique value in dataframe\n",
    "df_wehter_Data.nunique()"
   ]
  },
  {
   "cell_type": "code",
   "execution_count": null,
   "metadata": {},
   "outputs": [],
   "source": [
    "# calculate null value in data\n",
    "df_wehter_Data.isna().sum()"
   ]
  },
  {
   "cell_type": "code",
   "execution_count": null,
   "metadata": {},
   "outputs": [],
   "source": [
    "# Replace a null value with rain precip type\n",
    "df_wehter_Data['Precip Type'].fillna(\"rain\", inplace=True)\n",
    "df_wehter_Data.isna().sum()"
   ]
  },
  {
   "cell_type": "code",
   "execution_count": null,
   "metadata": {},
   "outputs": [],
   "source": [
    "# Return datatype of each column\n",
    "df_wehter_Data.dtypes"
   ]
  },
  {
   "cell_type": "code",
   "execution_count": null,
   "metadata": {},
   "outputs": [],
   "source": [
    "# change type of Formated date column in dataframe from object to datatime.\n",
    "df_wehter_Data['FormattedDate'] = pd.to_datetime(df_wehter_Data.FormattedDate, format='%Y-%m-%d %H:%M:%S', errors='coerce', utc=True)\n",
    "df_wehter_Data.dtypes"
   ]
  },
  {
   "cell_type": "code",
   "execution_count": null,
   "metadata": {},
   "outputs": [],
   "source": [
    "# Split year from datetime\n",
    "df_wehter_Data['Year'] = df_wehter_Data['FormattedDate'].dt.year\n",
    "grp_weather_data = df_wehter_Data.groupby('Year', as_index=False).mean() # group data by year calculate average\n",
    "grp_weather_data.head(20)"
   ]
  },
  {
   "cell_type": "code",
   "execution_count": null,
   "metadata": {},
   "outputs": [],
   "source": [
    "# ploting a Temperature, Humidity and Apparent Temperature over last 10 year' \n",
    "plt.figure(figsize=(6,6))\n",
    "plt.plot(grp_weather_data['Year'],grp_weather_data['TemperatureC'], label = 'Temperature (C)')\n",
    "plt.plot(grp_weather_data['Year'],grp_weather_data['ApparentTemperatureC'], label = 'Apparent Temperature (C)')\n",
    "plt.plot(grp_weather_data['Year'],grp_weather_data['Humidity'], label = 'Humidity')\n",
    "plt.legend()\n",
    "plt.title('The past 10 years, the average for temperature, humidity, and apparent temperature')\n",
    "plt.xlabel('Years')\n",
    "plt.ylabel('Average Temperature (C)')\n",
    "plt.show()\n",
    "plt.savefig('1_average_tempreture.jpg')"
   ]
  },
  {
   "cell_type": "code",
   "execution_count": null,
   "metadata": {},
   "outputs": [],
   "source": [
    "# Slice data between 2007 and 2010 years\n",
    "specific_year_weather_type = df_wehter_Data.query('Year >= 2007 and Year <= 2010')\n",
    "\n",
    "# Count Type of weather/Summary and reset index\n",
    "count_weather_Type = specific_year_weather_type['Summary'].value_counts().reset_index()  \n",
    "\n",
    "# indexing a new column name\n",
    "count_weather_Type.columns = ['Type of Weather', 'Count']  \n",
    "count_weather_Type.head(10)"
   ]
  },
  {
   "cell_type": "code",
   "execution_count": null,
   "metadata": {},
   "outputs": [],
   "source": [
    "# ploting a value in pie chart\n",
    "plt.figure(figsize=(7,7)).set_facecolor('white')\n",
    "plt.pie(count_weather_Type['Count'].head(5), labels=count_weather_Type['Type of Weather'].head(5), startangle=90, autopct='%1.1f%%', textprops={'fontweight':'normal','fontsize': 12,})\n",
    "plt.legend(loc = 2,bbox_to_anchor=(1, 0, 0.4, 1))\n",
    "plt.title('Different weather conditions between 2007 and 2010')\n",
    "plt.xlabel('Summary/Type of Weather')\n",
    "plt.show()\n",
    "plt.savefig('2_Different_condition.jpg')"
   ]
  },
  {
   "cell_type": "code",
   "execution_count": null,
   "metadata": {},
   "outputs": [],
   "source": [
    "# seperate data by year 2012\n",
    "df_year_2012_db = df_wehter_Data.query('Year == 2012')\n",
    "df_year_2012_db['Months'] = df_year_2012_db['FormattedDate'].dt.month_name() # split a months from dateTime\n",
    "df_year_2012_db.head()"
   ]
  },
  {
   "cell_type": "code",
   "execution_count": null,
   "metadata": {},
   "outputs": [],
   "source": [
    "# Group by months and calculate average / mean \n",
    "grp_by_Months = df_year_2012_db.groupby(['Months'], as_index = False).mean()\n",
    "grp_by_Months.head(10)"
   ]
  },
  {
   "cell_type": "code",
   "execution_count": null,
   "metadata": {},
   "outputs": [],
   "source": [
    "# Convert a months, windSpeed, Visibility column to numpy array\n",
    "months_arr = grp_by_Months['Months'].to_numpy()\n",
    "windSpeed_arr = grp_by_Months['WindSpeed(km/h)'].to_numpy()\n",
    "visiblity_arr = grp_by_Months['Visibility(km)'].to_numpy()"
   ]
  },
  {
   "cell_type": "code",
   "execution_count": null,
   "metadata": {},
   "outputs": [],
   "source": [
    "# Plot a value in bar graph\n",
    "width = 0.35\n",
    "n = len(months_arr)\n",
    "x = np.arange(n)\n",
    "plt.figure(figsize=(10,7.5))\n",
    "ax = plt.subplot()\n",
    "ax.bar(x, windSpeed_arr, width, label='WindSpeed (km/h)')\n",
    "ax.bar(x + width, visiblity_arr, width, label='Visiblity (Km)')\n",
    "plt.xticks(x + width / 2, months_arr)\n",
    "plt.title('Windspeed and visibility averages by month in 2012.')\n",
    "plt.ylabel('Average speed')\n",
    "plt.xlabel('Months of 2012')\n",
    "plt.legend()\n",
    "\n",
    "#x axis label roation\n",
    "plt.setp(plt.gca().get_xticklabels(), rotation = 45, horizontalalignment='right')\n",
    "plt.show()\n",
    "plt.savefig('3_average_wind_speed.jpg')"
   ]
  },
  {
   "cell_type": "code",
   "execution_count": null,
   "metadata": {},
   "outputs": [],
   "source": [
    "# Copy selected columns from df_weather_data datafrom for ploting histogram\n",
    "df_wehter_Data_hist = df_wehter_Data[['TemperatureC', 'ApparentTemperatureC', 'Humidity', 'WindSpeed(km/h)','Wind Bearing(degrees)', 'Visibility(km)', 'Pressure(millibars)']]\n",
    "df_wehter_Data_hist.head()"
   ]
  },
  {
   "cell_type": "code",
   "execution_count": null,
   "metadata": {},
   "outputs": [],
   "source": [
    "# Ploting a histogram\n",
    "fig = plt.figure(figsize=(11,11))\n",
    "\n",
    "#Create a column list to plot name and title for histogram\n",
    "column_list = list(df_wehter_Data_hist.iloc[:0])\n",
    "length = len(column_list)\n",
    "i = 1\n",
    "\n",
    "while i < length:\n",
    "    plt.subplot(3,2,i)\n",
    "    plt.hist(df_wehter_Data_hist[column_list[i]], density=True, bins=200, label=df_wehter_Data_hist[column_list[i]])\n",
    "    plt.title(column_list[i])\n",
    "    i+=1\n",
    "plt.suptitle('Histogram for Weather condition between 2005 and 2016')\n",
    "plt.legend()\n",
    "plt.ylabel('Frequency')\n",
    "plt.savefig('4_Histogram_weather.jpg')"
   ]
  }
 ],
 "metadata": {
  "kernelspec": {
   "display_name": "Python 3.9.13 64-bit (microsoft store)",
   "language": "python",
   "name": "python3"
  },
  "language_info": {
   "codemirror_mode": {
    "name": "ipython",
    "version": 3
   },
   "file_extension": ".py",
   "mimetype": "text/x-python",
   "name": "python",
   "nbconvert_exporter": "python",
   "pygments_lexer": "ipython3",
   "version": "3.9.13"
  },
  "orig_nbformat": 4,
  "vscode": {
   "interpreter": {
    "hash": "014ace0ac3d6e77025fc839d6659ed4b5c8a13aa042844ab72689d26bea0a95b"
   }
  }
 },
 "nbformat": 4,
 "nbformat_minor": 2
}
